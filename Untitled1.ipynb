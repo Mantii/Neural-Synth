{
 "cells": [
  {
   "cell_type": "code",
   "execution_count": 1,
   "metadata": {
    "ExecuteTime": {
     "end_time": "2020-06-07T18:18:21.890425Z",
     "start_time": "2020-06-07T18:18:21.269931Z"
    }
   },
   "outputs": [],
   "source": [
    "import torch\n",
    "import torch.nn as nn"
   ]
  },
  {
   "cell_type": "code",
   "execution_count": null,
   "metadata": {},
   "outputs": [],
   "source": []
  },
  {
   "cell_type": "code",
   "execution_count": 2,
   "metadata": {
    "ExecuteTime": {
     "end_time": "2020-06-07T18:18:23.074195Z",
     "start_time": "2020-06-07T18:18:23.055210Z"
    }
   },
   "outputs": [],
   "source": [
    "class VQEmbedding(nn.Module):\n",
    "    def __init__(self, K, D):\n",
    "        super().__init__()\n",
    "        self.embedding = nn.Embedding(K, D)\n",
    "        self.embedding.weight.data.uniform_(-1./K, 1./K)\n",
    "\n",
    "    def forward(self, z_e_x):\n",
    "        z_e_x_ = z_e_x.permute(0, 2, 3, 1).contiguous()\n",
    "        latents = vq(z_e_x_, self.embedding.weight)\n",
    "        return latents\n",
    "\n",
    "    def straight_through(self, z_e_x):\n",
    "        z_e_x_ = z_e_x.permute(0, 2, 3, 1).contiguous()\n",
    "        z_q_x_, indices = vq_st(z_e_x_, self.embedding.weight.detach())\n",
    "        z_q_x = z_q_x_.permute(0, 3, 1, 2).contiguous()\n",
    "\n",
    "        z_q_x_bar_flatten = torch.index_select(self.embedding.weight,\n",
    "            dim=0, index=indices)\n",
    "        z_q_x_bar_ = z_q_x_bar_flatten.view_as(z_e_x_)\n",
    "        z_q_x_bar = z_q_x_bar_.permute(0, 3, 1, 2).contiguous()\n",
    "\n",
    "        return z_q_x, z_q_x_bar\n",
    "\n",
    "\n",
    "class ResBlock(nn.Module):\n",
    "    def __init__(self, dim):\n",
    "        super().__init__()\n",
    "        self.block = nn.Sequential(\n",
    "            nn.ReLU(True),\n",
    "            nn.Conv2d(dim, dim, 3, 1, 1),\n",
    "            nn.BatchNorm2d(dim),\n",
    "            nn.ReLU(True),\n",
    "            nn.Conv2d(dim, dim, 1),\n",
    "            nn.BatchNorm2d(dim)\n",
    "        )\n",
    "\n",
    "    def forward(self, x):\n",
    "        return x + self.block(x)\n",
    "\n",
    "\n",
    "class VectorQuantizedVAE(nn.Module):\n",
    "    def __init__(self, input_dim, dim, K=512):\n",
    "        super().__init__()\n",
    "        self.encoder = nn.Sequential(\n",
    "            nn.Conv2d(input_dim, dim, 4, 2, 1),\n",
    "            nn.BatchNorm2d(dim),\n",
    "            nn.ReLU(True),\n",
    "            nn.Conv2d(dim, dim, 4, 2, 1),\n",
    "            ResBlock(dim),\n",
    "            ResBlock(dim),\n",
    "        )\n",
    "\n",
    "        self.codebook = VQEmbedding(K, dim)\n",
    "\n",
    "        self.decoder = nn.Sequential(\n",
    "            ResBlock(dim),\n",
    "            ResBlock(dim),\n",
    "            nn.ReLU(True),\n",
    "            nn.ConvTranspose2d(dim, dim, 4, 2, 1),\n",
    "            nn.BatchNorm2d(dim),\n",
    "            nn.ReLU(True),\n",
    "            nn.ConvTranspose2d(dim, input_dim, 4, 2, 1),\n",
    "            nn.Tanh()\n",
    "        )\n",
    "\n",
    "        self.apply(weights_init)\n",
    "\n",
    "    def encode(self, x):\n",
    "        z_e_x = self.encoder(x)\n",
    "        latents = self.codebook(z_e_x)\n",
    "        return latents\n",
    "\n",
    "    def decode(self, latents):\n",
    "        z_q_x = self.codebook.embedding(latents).permute(0, 3, 1, 2)  # (B, D, H, W)\n",
    "        x_tilde = self.decoder(z_q_x)\n",
    "        return x_tilde\n",
    "\n",
    "    def forward(self, x):\n",
    "        z_e_x = self.encoder(x)\n",
    "        z_q_x_st, z_q_x = self.codebook.straight_through(z_e_x)\n",
    "        x_tilde = self.decoder(z_q_x_st)\n",
    "        return x_tilde, z_e_x, z_q_x"
   ]
  },
  {
   "cell_type": "code",
   "execution_count": null,
   "metadata": {},
   "outputs": [],
   "source": []
  },
  {
   "cell_type": "code",
   "execution_count": null,
   "metadata": {},
   "outputs": [],
   "source": []
  }
 ],
 "metadata": {
  "kernelspec": {
   "display_name": "Python 3",
   "language": "python",
   "name": "python3"
  },
  "language_info": {
   "codemirror_mode": {
    "name": "ipython",
    "version": 3
   },
   "file_extension": ".py",
   "mimetype": "text/x-python",
   "name": "python",
   "nbconvert_exporter": "python",
   "pygments_lexer": "ipython3",
   "version": "3.7.5"
  },
  "varInspector": {
   "cols": {
    "lenName": 16,
    "lenType": 16,
    "lenVar": 40
   },
   "kernels_config": {
    "python": {
     "delete_cmd_postfix": "",
     "delete_cmd_prefix": "del ",
     "library": "var_list.py",
     "varRefreshCmd": "print(var_dic_list())"
    },
    "r": {
     "delete_cmd_postfix": ") ",
     "delete_cmd_prefix": "rm(",
     "library": "var_list.r",
     "varRefreshCmd": "cat(var_dic_list()) "
    }
   },
   "types_to_exclude": [
    "module",
    "function",
    "builtin_function_or_method",
    "instance",
    "_Feature"
   ],
   "window_display": false
  }
 },
 "nbformat": 4,
 "nbformat_minor": 2
}
